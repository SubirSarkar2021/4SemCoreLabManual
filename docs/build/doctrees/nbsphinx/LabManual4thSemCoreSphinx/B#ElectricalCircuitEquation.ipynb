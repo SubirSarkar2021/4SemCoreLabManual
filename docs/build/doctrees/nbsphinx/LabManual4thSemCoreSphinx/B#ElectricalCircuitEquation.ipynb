{
 "cells": [
  {
   "cell_type": "markdown",
   "id": "9e23fcc7-5f81-45f1-85d2-ca70c3b33a83",
   "metadata": {},
   "source": [
    "# Solving Set of Mesh Equation of an Electrical Circuit "
   ]
  },
  {
   "attachments": {
    "0b613d3c-965f-405a-8cf3-c4938ec037e5.png": {
     "image/png": "[encoded data removed]"
    }
   },
   "cell_type": "markdown",
   "id": "e82c2901-fdb8-424c-b2d5-0d893dbe4baa",
   "metadata": {},
   "source": [
    "![CktDiag.png](attachment:0b613d3c-965f-405a-8cf3-c4938ec037e5.png)"
   ]
  },
  {
   "cell_type": "markdown",
   "id": "36b11798-57f2-4ede-81e8-1998abe90349",
   "metadata": {},
   "source": [
    "## Kirchhoff's Voltage Law (KVL) for Three Meshes\n",
    "\n",
    "### **Step 1: Define Mesh Currents**\n",
    "We define the mesh currents as:\n",
    "\n",
    "- $ I_1 $  → Current in **Mesh 1** (left loop)\n",
    "- $ I_2 $ → Current in **Mesh 2** (right loop)\n",
    "- $ I_3 $ → Current in **Mesh 3** (middle loop)\n",
    "\n",
    "We assume all currents are in a **clockwise direction**.\n",
    "\n",
    "---\n",
    "\n",
    "### **Step 2: Write KVL Equations for Each Mesh**\n",
    "\n",
    "#### **Mesh 1 (Left Loop)**\n",
    "Applying KVL:\n",
    "\n",
    "$$\n",
    "V_1 - I_1 R_1 - I_1R_2 + I_2R_2 = 0\n",
    "$$\n",
    "\n",
    "Rearrange:\n",
    "\n",
    "$$\n",
    "I_1 (R_1 + R_2) + I_2(-R_2) = V_1\n",
    "$$\n",
    "\n",
    "---\n",
    "\n",
    "#### **Mesh 2 (Middle Loop)**\n",
    "Applying KVL:\n",
    "\n",
    "$$\n",
    "-I_2R_2 -I_2R_3 - I_2R_4 + I_3R_4 + I_2R_2 = 0\n",
    "$$\n",
    "\n",
    "Rearrange:\n",
    "\n",
    "$$\n",
    "I_1(-R_2) + I_2(R_2 - R_3 - R_4) + I_3R_4 = 0\n",
    "$$\n",
    "\n",
    "---\n",
    "\n",
    "#### **Mesh 3 (Right Loop)**\n",
    "Applying KVL:\n",
    "\n",
    "$$\n",
    "-I_3R_5 - V_2 + I_3R_4 - I_2R_4 = 0\n",
    "$$\n",
    "\n",
    "Rearrange:\n",
    "\n",
    "$$\n",
    "I_2(R_4) + I_3(R_4 - R_5) = V_2\n",
    "$$\n",
    "\n",
    "---\n",
    "\n",
    "### **Final KVL Equations for Three Meshes**\n",
    "\n",
    "1. $$ I_1 (R_1 + R_2) + I_2(-R_2) = V_1 $$\n",
    "2. $$ I_1(-R_2) + I_2(R_2 - R_3 - R_4) + I_3R_4 = 0 $$\n",
    "3. $$ I_2(R_4) + I_3(R_4 - R_5) = V_2 $$\n",
    "\n",
    "These three equations can be solved simultaneously to find $ I_1 $, $ I_2 $, and $ I_3 $. The above equation can be written in matrix form as\n",
    "\\begin{equation}\n",
    "\\begin{pmatrix}\n",
    "(R_1 + R_2) & (-R_2)            & 0 \\\\\n",
    "(-R_2)      & (R_2 - R_3 - R_4) & R_4 \\\\\n",
    "(R_4)       & (R_4 - R_5)       & 0\n",
    "\\end{pmatrix}\n",
    "\\begin{pmatrix}\n",
    "I_1\\\\\n",
    "I_2  \\\\\n",
    "I_3\n",
    "\\end{pmatrix}=\n",
    "\\begin{pmatrix}\n",
    "V_1\\\\\n",
    "0  \\\\\n",
    "V_2\n",
    "\\end{pmatrix}\n",
    "\\end{equation}"
   ]
  },
  {
   "cell_type": "code",
   "execution_count": 1,
   "id": "67ddc226-17b1-48f6-9052-888deab26801",
   "metadata": {},
   "outputs": [],
   "source": [
    "import numpy as np"
   ]
  },
  {
   "cell_type": "code",
   "execution_count": 2,
   "id": "b2bd1398-c769-45e4-a413-e42393a58b70",
   "metadata": {},
   "outputs": [],
   "source": [
    "V1 = 130\n",
    "V2 = 50\n",
    "R1 = 10\n",
    "R2 = 8\n",
    "R3 = 5\n",
    "R4 = 2\n",
    "R5 = 5"
   ]
  },
  {
   "cell_type": "code",
   "execution_count": 3,
   "id": "37a16185-102d-4c34-b080-c824457c8e6c",
   "metadata": {},
   "outputs": [],
   "source": [
    "a00 = R1 + R2\n",
    "a01 = -R2\n",
    "a02 = 0\n",
    "a10 = -R2\n",
    "a11 = R2 - R3 - R4\n",
    "a12 = R4\n",
    "a20 = R4\n",
    "a21 = R4 - R5\n",
    "a22 = 0\n",
    "A = np.array([[a00, a01, a02], [a10, a11, a12], [a20, a21, a22]], dtype=float)\n",
    "b = np.array([V1, 0, V2], dtype=float)"
   ]
  },
  {
   "cell_type": "markdown",
   "id": "789f821e-557d-4b00-83eb-c214423318ab",
   "metadata": {},
   "source": [
    "## Gauss Elimination Method"
   ]
  },
  {
   "cell_type": "code",
   "execution_count": 4,
   "id": "6d7c12a9-fe01-4521-be2b-aa2fde992f8b",
   "metadata": {},
   "outputs": [],
   "source": [
    "# Gauss Elimination Method\n",
    "\n",
    "def GaussElimination(A, b):\n",
    "    x = np.copy(b)\n",
    "    n = len(b)\n",
    "    #Elimination phase\n",
    "    for k in range(n-1):             # Fixed row/ Column no.\n",
    "        for i in range(k+1, n):      # Row no. to be transformed\n",
    "            if A[i, k] != 0:\n",
    "                factor = A[i, k]/A[k, k]\n",
    "                A[i, : ] = A[i, : ] - factor*A[k, : ]\n",
    "                b[i] = b[i] - factor*b[k]\n",
    "    \n",
    "    # Back substitution\n",
    "    for k in range(n-1, -1, -1):\n",
    "        x[k] = (b[k] - np.dot(A[k, k+1:n], x[k+1:n]))/A[k,k]\n",
    "\n",
    "    return x"
   ]
  },
  {
   "cell_type": "code",
   "execution_count": 5,
   "id": "b725278e-3c27-41bd-bd35-6f833e428798",
   "metadata": {},
   "outputs": [
    {
     "name": "stdout",
     "output_type": "stream",
     "text": [
      "[ -0.26315789 -16.84210526   7.36842105]\n"
     ]
    }
   ],
   "source": [
    "x = GaussElimination(A, b)\n",
    "print(x)"
   ]
  },
  {
   "cell_type": "markdown",
   "id": "86704c29-e6db-436f-a224-3bb678f8ea9d",
   "metadata": {},
   "source": [
    "## Gauss Seidal Method"
   ]
  },
  {
   "cell_type": "code",
   "execution_count": 6,
   "id": "d68a30be-913c-4531-a09e-ca690ff57cca",
   "metadata": {},
   "outputs": [],
   "source": [
    "# Gauss Seidal Method\n",
    "\n",
    "def GaussSeidel(A, b, maxiter=10, tol=1e-6):\n",
    "    row, col = A.shape\n",
    "    x = np.zeros_like(b)\n",
    "    for iter in range(maxiter):\n",
    "        for i in range(row):\n",
    "            x_old = x.copy()\n",
    "            j = i\n",
    "            x[i] = (b[i] - np.sum(A[i, :j]*x[:j]) - np.sum(A[i, j+1:]*x[j+1:]))/A[i,i]\n",
    "            err = np.abs(x_old -x)\n",
    "            if all(errval < tol for errval in err) == True:\n",
    "                break\n",
    "    return x"
   ]
  },
  {
   "cell_type": "code",
   "execution_count": 7,
   "id": "274c30ba-bb4f-4483-ac71-74f77dd3adb7",
   "metadata": {},
   "outputs": [
    {
     "name": "stdout",
     "output_type": "stream",
     "text": [
      "[ -0.26315789 -16.84210526   7.36842105]\n"
     ]
    }
   ],
   "source": [
    "x = GaussSeidel(A, b, maxiter=10, tol=1e-6)\n",
    "print(x)"
   ]
  }
 ],
 "metadata": {
  "kernelspec": {
   "display_name": "Python 3 (ipykernel)",
   "language": "python",
   "name": "python3"
  },
  "language_info": {
   "codemirror_mode": {
    "name": "ipython",
    "version": 3
   },
   "file_extension": ".py",
   "mimetype": "text/x-python",
   "name": "python",
   "nbconvert_exporter": "python",
   "pygments_lexer": "ipython3",
   "version": "3.12.7"
  }
 },
 "nbformat": 4,
 "nbformat_minor": 5
}
