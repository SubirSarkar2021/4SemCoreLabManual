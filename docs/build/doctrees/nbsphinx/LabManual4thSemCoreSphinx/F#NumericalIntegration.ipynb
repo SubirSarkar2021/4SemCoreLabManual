{
 "cells": [
  {
   "cell_type": "markdown",
   "id": "c95ce30c-f30a-43ed-afe0-f796d518349b",
   "metadata": {},
   "source": [
    "# Numerical Integration\n",
    "\n",
    "## Trapezoidal rule\n",
    "\n",
    "This rule is used to find the approximate value of a definite integral. In trapezoidal rule, the region under the curve of a given function is considered to be a trapezoid and the area under the curve is calculated. It follows that\n",
    "\\begin{equation}\n",
    "\\int_{a}^{b}f(x)dx \\approx (b-a)\\left[\\frac{f(a)+f(b)}{2}\\right]\n",
    "\\end{equation}<br>\n",
    "For more accurate result, the domain of the graph is divided into $n$ segments of equal size so that grid spacing or segment size is $h=\\frac{b-a}{n}$. Therefore the approximate value of the integral can be written as\n",
    "\\begin{equation}\n",
    "\\int_{a}^{b}f(x)dx = \\frac{(b-a)}{2n}\\left[f(a)+2\\sum_{i=1}^{n-1}f(a+ih)+f(b)\\right]\n",
    "\\end{equation}\n",
    "\n",
    "## Simpson's 1/3rd rule\n",
    "\\begin{align}\n",
    "&I(a,b)==\\frac{1}{3}h\\left[f(a) + f(b) + 4\\sum_{k = 1\\dots N-1}f(a+kh) + 2\\sum_{k =2 \\dots N-2}f(a+kh) \\right]\\\\\n",
    "&h=\\frac{(b-a)}{N}\n",
    "\\end{align}"
   ]
  },
  {
   "cell_type": "markdown",
   "id": "f164c84e-fd2a-462b-8354-149bb70c2eb7",
   "metadata": {},
   "source": [
    "## Algorithm: Numerical Integration using Trapezoidal and Simpson’s Rule\n",
    "\n",
    "---\n",
    "\n",
    "### Algorithm Overview\n",
    "\n",
    "We will approximate definite integrals of a given function `f(x)` over the interval `[a, b]` using:\n",
    "- Trapezoidal Rule\n",
    "- Simpson’s 1/3 Rule\n",
    "\n",
    "We test the integration on two types of functions:\n",
    "1. A rational function: $ f(x) = \\frac{1}{1 + x^2} $\n",
    "2. A Gaussian-like function multiplied by a linear term\n",
    "\n",
    "---\n",
    "\n",
    "### Trapezoidal Rule Algorithm\n",
    "\n",
    "**Input:**  \n",
    "- Function `f`  \n",
    "- Interval `[a, b]`  \n",
    "- Number of subintervals `N`\n",
    "\n",
    "**Steps:**\n",
    "1. Compute step size: \\( h = \\frac{b - a}{N} \\)\n",
    "2. Generate `N+1` equally spaced `x` values in `[a, b]`\n",
    "3. Evaluate `f(x)` at all points\n",
    "4. Compute:  \n",
    "   $$\n",
    "   I = h \\left[ \\frac{f(x_0) + f(x_N)}{2} + \\sum_{i=1}^{N-1} f(x_i) \\right]\n",
    "   $$\n",
    "5. Return the integral `I`\n",
    "\n",
    "---\n",
    "\n",
    "### Simpson’s 1/3 Rule Algorithm\n",
    "\n",
    "**Input:**  \n",
    "- Function `f`  \n",
    "- Interval `[a, b]`  \n",
    "- Number of subintervals `N` (must be even)\n",
    "\n",
    "**Steps:**\n",
    "1. If `N` is odd, increment it by 1 to make it even\n",
    "2. Compute step size: \\( h = \\frac{b - a}{N} \\)\n",
    "3. Generate `N+1` equally spaced `x` values in `[a, b]`\n",
    "4. Evaluate `f(x)` at all points\n",
    "5. Compute:  \n",
    "   $$\n",
    "   I = \\frac{h}{3} \\left[ f(x_0) + f(x_N) + 4\\sum_{\\text{odd } i} f(x_i) + 2\\sum_{\\text{even } i} f(x_i) \\right]\n",
    "   $$\n",
    "6. Return the integral `I`\n",
    "\n",
    "---"
   ]
  },
  {
   "cell_type": "code",
   "execution_count": 1,
   "id": "60fb031f-e333-4591-88bd-a3b4ad4ac9d2",
   "metadata": {},
   "outputs": [],
   "source": [
    "# Defining function to evaluate  by Trapezoidal Rule\n",
    "def trapzInt(f, a, b, N):\n",
    "    x = np.linspace(a, b, N+1)\n",
    "    h = (b-a)/N\n",
    "    y = f(x)\n",
    "    I = (sum(y[1:-1]) + (y[0] + y[-1])/2)*h\n",
    "    return I\n",
    "\n",
    "# Defining function to evaluate  by Simpson's 1/3rd Rule\n",
    "def simp(f, a, b, N):\n",
    "    if N%2 == 1:\n",
    "        N += 1\n",
    "    x = np.linspace(a, b, N+1)\n",
    "    h = (b-a)/N\n",
    "    y = f(x)\n",
    "    I = (y[0] + y[-1] + 4*sum(y[1:-1:2]) + 2*sum(y[2:-2:2]))*(h/3)\n",
    "    return I"
   ]
  },
  {
   "cell_type": "markdown",
   "id": "f41c34c3-5d9d-4949-b237-e0f8254492e5",
   "metadata": {},
   "source": [
    "### Evaluate:\n",
    "\n",
    "$$\n",
    "\\int_{-\\infty}^{\\infty}\\frac{1}{1+x^2}dx\n",
    "$$"
   ]
  },
  {
   "cell_type": "code",
   "execution_count": 2,
   "id": "b64557a7-0be1-465d-b771-69d03b745e56",
   "metadata": {},
   "outputs": [
    {
     "name": "stdout",
     "output_type": "stream",
     "text": [
      "The value of the integral by Trapezoidal rule = 2.942\n",
      "The value of the integral by Simpson's 1/3rd rule = 2.942\n"
     ]
    }
   ],
   "source": [
    "import numpy as np\n",
    "\n",
    "f = lambda x: 1/(1 + x**2)\n",
    "a, b = -10, 10\n",
    "N    = 100\n",
    "value = trapzInt(f, a, b, N)\n",
    "print(\"The value of the integral by Trapezoidal rule = \"+str(round(value, 3)))\n",
    "\n",
    "value = simp(f, a, b, N)\n",
    "print(\"The value of the integral by Simpson's 1/3rd rule = \"+str(round(value, 3)))"
   ]
  },
  {
   "cell_type": "markdown",
   "id": "7e7ab04b-da5c-45d3-900c-fe50de68bea4",
   "metadata": {},
   "source": [
    "### Evaluate\n",
    "\n",
    "$$\n",
    "\\frac{1}{\\sqrt{2\\pi \\sigma^2}}\\int_{-\\infty}^{\\infty}\\exp\\left(-\\frac{(x - 2)^2}{2\\sigma^2}\\right)(x + 3) dx\n",
    "$$"
   ]
  },
  {
   "cell_type": "code",
   "execution_count": 3,
   "id": "533cd8c4-32f9-4dbb-a67b-f7a4c253ecdd",
   "metadata": {},
   "outputs": [
    {
     "name": "stdout",
     "output_type": "stream",
     "text": [
      "The value of the integral by Trapezoidal rule = 5.0\n",
      "The value of the integral by Simpson's 1/3rd rule = 5.0\n"
     ]
    }
   ],
   "source": [
    "def f(x):\n",
    "    int = (1/np.sqrt(2*np.pi*sigma**2))*np.exp(-(x-2)**2/(2*sigma**2))*(x + 3)\n",
    "    return int\n",
    "\n",
    "a, b = -10, 10\n",
    "N    = 1000\n",
    "h    = (b - a)/N\n",
    "sigma = 1\n",
    "\n",
    " \n",
    "\n",
    "value_trapz = trapzInt(f, a, b, N)\n",
    "value_simp = simp(f, a, b, N)\n",
    "\n",
    "print(\"The value of the integral by Trapezoidal rule = \"+str(round(value_trapz, 3)))\n",
    "print(\"The value of the integral by Simpson's 1/3rd rule = \"+str(round(value_simp, 3)))"
   ]
  }
 ],
 "metadata": {
  "kernelspec": {
   "display_name": "Python 3 (ipykernel)",
   "language": "python",
   "name": "python3"
  },
  "language_info": {
   "codemirror_mode": {
    "name": "ipython",
    "version": 3
   },
   "file_extension": ".py",
   "mimetype": "text/x-python",
   "name": "python",
   "nbconvert_exporter": "python",
   "pygments_lexer": "ipython3",
   "version": "3.12.7"
  }
 },
 "nbformat": 4,
 "nbformat_minor": 5
}
