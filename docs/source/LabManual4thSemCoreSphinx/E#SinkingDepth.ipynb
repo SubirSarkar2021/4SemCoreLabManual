{
 "cells": [
  {
   "cell_type": "markdown",
   "id": "ab878160-44ff-437a-9ffa-f17dbb632868",
   "metadata": {},
   "source": [
    "# Sinking Depth\n",
    "\n",
    "## Theory: Sinking Depth of a Spherical Object in a Fluid\n",
    "\n",
    "### **Introduction**\n",
    "When a homogeneous spherical object of radius $ R $ and density $ \\rho_s $ is placed in a fluid of density $ \\rho_f $, it sinks until the buoyant force balances its weight. The goal is to determine the depth $ h $ to which the sphere submerges.\n",
    "\n",
    "### **Forces Acting on the Sphere**\n",
    "1. **Gravitational Force (Weight of the Sphere)**:\n",
    "   $$\n",
    "   W = m g = \\rho_s V_s g\n",
    "   $$\n",
    "   where $ V_s = \\frac{4}{3} \\pi R^3 $ is the total volume of the sphere.\n",
    "\n",
    "2. **Buoyant Force (Archimedes’ Principle)**:\n",
    "   $$\n",
    "   B = \\rho_f V_f g\n",
    "   $$\n",
    "   where $ V_f(h) $ is the volume of the sphere submerged in the fluid, given by:\n",
    "   $$\n",
    "   V_f(h) = \\frac{\\pi h^2 (3R - h)}{3}\n",
    "   $$\n",
    "\n",
    "### **Equilibrium Condition**\n",
    "At equilibrium, the forces balance:\n",
    "   $$\n",
    "   B = W\n",
    "   $$\n",
    "   Expanding:\n",
    "   $$\n",
    "   \\rho_f \\cdot V_f(h) \\cdot g = \\rho_s \\cdot V_s \\cdot g\n",
    "   $$\n",
    "   Canceling $ g $:\n",
    "   $$\n",
    "   \\rho_f V_f(h) = \\rho_s V_s\n",
    "   $$\n",
    "   Substituting the volume expressions:\n",
    "   $$\n",
    "   \\rho_f \\frac{\\pi h^2 (3R - h)}{3} = \\rho_s \\frac{4}{3} \\pi R^3\n",
    "   $$\n",
    "   Simplifying:\n",
    "   $$\n",
    "   \\rho_f h^2 (3R - h) = 4 \\rho_s R^3\n",
    "   $$\n",
    "\n",
    "### **Numerical Solution**\n",
    "Since this equation is nonlinear, it is solved using a numerical root-finding technique such as the Newton-Raphson method or bisection method.\n"
   ]
  },
  {
   "cell_type": "markdown",
   "id": "9a55eca6-6e43-47f9-8468-bdb5baa88b28",
   "metadata": {},
   "source": [
    "### Bisection Method"
   ]
  },
  {
   "cell_type": "code",
   "execution_count": 1,
   "id": "ae40c656-e060-4bce-b4f2-2c525ed4b907",
   "metadata": {},
   "outputs": [
    {
     "name": "stdout",
     "output_type": "stream",
     "text": [
      "The sphere sinks to a depth of 0.7129 meters.\n"
     ]
    }
   ],
   "source": [
    "import numpy as np\n",
    "\n",
    "def submerged_volume_eq(h, R, rho_s, rho_f):\n",
    "    return rho_f * (h**2 * (3*R - h)) - 4 * rho_s * R**3\n",
    "\n",
    "def bisection_method(f, a, b, tol=1e-6, max_iter=100):\n",
    "    if f(a) * f(b) > 0:\n",
    "        raise ValueError(\"Function must have opposite signs at a and b\")\n",
    "    \n",
    "    for _ in range(max_iter):\n",
    "        c = (a + b) / 2\n",
    "        if abs(f(c)) < tol or (b - a) / 2 < tol:\n",
    "            return c\n",
    "        if f(c) * f(a) < 0:\n",
    "            b = c\n",
    "        else:\n",
    "            a = c\n",
    "    return (a + b) / 2  # Return the midpoint if max iterations reached\n",
    "\n",
    "def find_sinking_depth(R, rho_s, rho_f):\n",
    "    f = lambda h: submerged_volume_eq(h, R, rho_s, rho_f)\n",
    "    return bisection_method(f, 0, 2*R)\n",
    "\n",
    "# Example usage\n",
    "R = 0.5        # Radius of the sphere (meters)\n",
    "rho_s = 800    # Density of the sphere (kg/m^3)\n",
    "rho_f = 1000   # Density of the fluid (kg/m^3)\n",
    "\n",
    "h = find_sinking_depth(R, rho_s, rho_f)\n",
    "print(f\"The sphere sinks to a depth of {h:.4f} meters.\")"
   ]
  },
  {
   "cell_type": "markdown",
   "id": "c21cf42b-4cf7-42db-89bb-113ee7d8e86d",
   "metadata": {},
   "source": [
    "### Newton Raphson Method"
   ]
  },
  {
   "cell_type": "code",
   "execution_count": 4,
   "id": "4ffbc895-6ff8-4ec7-bb11-4803fb8c6e37",
   "metadata": {},
   "outputs": [
    {
     "name": "stdout",
     "output_type": "stream",
     "text": [
      "The sphere sinks to a depth of 0.7129 meters.\n"
     ]
    }
   ],
   "source": [
    "import numpy as np\n",
    "\n",
    "def submerged_volume_eq(h, R, rho_s, rho_f):\n",
    "    return rho_f * (h**2 * (3*R - h)) - 4 * rho_s * R**3\n",
    "\n",
    "def submerged_volume_derivative(h, R, rho_f):\n",
    "    return rho_f * (6*R*h - 3*h**2)  # Derivative of the function\n",
    "\n",
    "def newton_raphson_method(f, df, x0, tol=1e-6, max_iter=100):\n",
    "    x = x0\n",
    "    for _ in range(max_iter):\n",
    "        fx = f(x)\n",
    "        dfx = df(x)\n",
    "        if abs(fx) < tol:\n",
    "            return x\n",
    "        if dfx == 0:\n",
    "            raise ValueError(\"Derivative is zero. Newton-Raphson method fails.\")\n",
    "        x -= fx / dfx\n",
    "    return x\n",
    "\n",
    "def find_sinking_depth(R, rho_s, rho_f):\n",
    "    f = lambda h: submerged_volume_eq(h, R, rho_s, rho_f)\n",
    "    df = lambda h: submerged_volume_derivative(h, R, rho_f)\n",
    "    return newton_raphson_method(f, df, R)\n",
    "\n",
    "# Example usage\n",
    "R = 0.5        # Radius of the sphere (meters)\n",
    "rho_s = 800    # Density of the sphere (kg/m^3)\n",
    "rho_f = 1000   # Density of the fluid (kg/m^3)\n",
    "\n",
    "h = find_sinking_depth(R, rho_s, rho_f)\n",
    "print(f\"The sphere sinks to a depth of {h:.4f} meters.\")\n"
   ]
  },
  {
   "cell_type": "markdown",
   "id": "596cac9b-48c2-43ad-9646-0645c46ff0e6",
   "metadata": {},
   "source": [
    "### Sectant Method"
   ]
  },
  {
   "cell_type": "code",
   "execution_count": 5,
   "id": "d34f4132-437d-4489-9276-0279cbe6ac72",
   "metadata": {},
   "outputs": [
    {
     "name": "stdout",
     "output_type": "stream",
     "text": [
      "The sphere sinks to a depth of 0.7129 meters.\n"
     ]
    }
   ],
   "source": [
    "import numpy as np\n",
    "\n",
    "def submerged_volume_eq(h, R, rho_s, rho_f):\n",
    "    return rho_f * (h**2 * (3*R - h)) - 4 * rho_s * R**3\n",
    "\n",
    "def secant_method(f, x0, x1, tol=1e-6, max_iter=100):\n",
    "    for _ in range(max_iter):\n",
    "        f_x0 = f(x0)\n",
    "        f_x1 = f(x1)\n",
    "        if abs(f_x1) < tol:\n",
    "            return x1\n",
    "        if f_x1 - f_x0 == 0:\n",
    "            raise ValueError(\"Zero denominator in secant method.\")\n",
    "        x2 = x1 - f_x1 * (x1 - x0) / (f_x1 - f_x0)\n",
    "        x0, x1 = x1, x2\n",
    "    return x1\n",
    "\n",
    "def find_sinking_depth(R, rho_s, rho_f):\n",
    "    f = lambda h: submerged_volume_eq(h, R, rho_s, rho_f)\n",
    "    return secant_method(f, 0, 2*R)\n",
    "\n",
    "# Example usage\n",
    "R = 0.5        # Radius of the sphere (meters)\n",
    "rho_s = 800    # Density of the sphere (kg/m^3)\n",
    "rho_f = 1000   # Density of the fluid (kg/m^3)\n",
    "\n",
    "h = find_sinking_depth(R, rho_s, rho_f)\n",
    "print(f\"The sphere sinks to a depth of {h:.4f} meters.\")\n"
   ]
  }
 ],
 "metadata": {
  "kernelspec": {
   "display_name": "Python 3 (ipykernel)",
   "language": "python",
   "name": "python3"
  },
  "language_info": {
   "codemirror_mode": {
    "name": "ipython",
    "version": 3
   },
   "file_extension": ".py",
   "mimetype": "text/x-python",
   "name": "python",
   "nbconvert_exporter": "python",
   "pygments_lexer": "ipython3",
   "version": "3.12.7"
  }
 },
 "nbformat": 4,
 "nbformat_minor": 5
}
